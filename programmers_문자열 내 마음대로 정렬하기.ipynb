{
 "cells": [
  {
   "cell_type": "code",
   "execution_count": 1,
   "id": "cbc30a56",
   "metadata": {},
   "outputs": [],
   "source": [
    "def solution(strings, n):\n",
    "    m = {}\n",
    "    l = []\n",
    "    \n",
    "    for i in strings:\n",
    "        m[i] = i[n]\n",
    "    answer = sorted(m.items(), key=lambda x :x[1])\n",
    "    # m.items()를 하여 각 key.value가 tuple로 들어있는\n",
    "    # 리스트 (dict_items 객체) 로 만든다\n",
    "    # dict_items 객체를 lamba 식을 활용하여 정렬\n",
    "    \n",
    "    for i in answer:\n",
    "        l.append(i[0])\n",
    "    \n",
    "    return l\n"
   ]
  },
  {
   "cell_type": "code",
   "execution_count": 2,
   "id": "dc16ebc0",
   "metadata": {},
   "outputs": [],
   "source": [
    "strings = [\"abce\", \"abcd\", \"cdx\"]\n",
    "n = 2"
   ]
  },
  {
   "cell_type": "code",
   "execution_count": 16,
   "id": "7a344897",
   "metadata": {},
   "outputs": [
    {
     "ename": "TypeError",
     "evalue": "count() takes exactly one argument (0 given)",
     "output_type": "error",
     "traceback": [
      "\u001b[1;31m---------------------------------------------------------------------------\u001b[0m",
      "\u001b[1;31mTypeError\u001b[0m                                 Traceback (most recent call last)",
      "Input \u001b[1;32mIn [16]\u001b[0m, in \u001b[0;36m<cell line: 12>\u001b[1;34m()\u001b[0m\n\u001b[0;32m      9\u001b[0m answer \u001b[38;5;241m=\u001b[39m \u001b[38;5;28msorted\u001b[39m(m\u001b[38;5;241m.\u001b[39mitems(), key\u001b[38;5;241m=\u001b[39m\u001b[38;5;28;01mlambda\u001b[39;00m x :x[\u001b[38;5;241m1\u001b[39m])\n\u001b[0;32m     10\u001b[0m l\u001b[38;5;241m.\u001b[39msort()\n\u001b[1;32m---> 12\u001b[0m \u001b[43ml\u001b[49m\u001b[38;5;241;43m.\u001b[39;49m\u001b[43mcount\u001b[49m\u001b[43m(\u001b[49m\u001b[43m)\u001b[49m\n\u001b[0;32m     15\u001b[0m o\u001b[38;5;241m.\u001b[39msort()\n\u001b[0;32m     17\u001b[0m l\u001b[38;5;241m.\u001b[39mclear()\n",
      "\u001b[1;31mTypeError\u001b[0m: count() takes exactly one argument (0 given)"
     ]
    }
   ],
   "source": [
    "m = {}\n",
    "l = []\n",
    "o = []\n",
    "\n",
    "for i in strings:\n",
    "    m[i] = i[n]\n",
    "    l.append(i[n])\n",
    "\n",
    "answer = sorted(m.items(), key=lambda x :x[1])\n",
    "# l.sort()\n",
    "\n",
    "# for i in range(0,len(l)-1):\n",
    "#     if l[i] == l [i+1]:\n",
    "#         o.append(answer[i][0])\n",
    "#         o.append(answer[i+1][0])\n",
    "        \n",
    "\n",
    "# o.sort()\n",
    "\n",
    "# l.clear()\n",
    "\n",
    "# for i in range(len(answer)):\n",
    "#     l.append(answer[i][0])\n",
    "\n",
    "\n",
    "\n",
    "# print(o)\n",
    "print(answer)"
   ]
  },
  {
   "cell_type": "code",
   "execution_count": 31,
   "id": "7a0f977c",
   "metadata": {},
   "outputs": [
    {
     "name": "stdout",
     "output_type": "stream",
     "text": [
      "[('abce', 'c'), ('abcd', 'c'), ('cdx', 'x')]\n",
      "['cdx']\n",
      "['abcd', 'abce', 'cdx']\n"
     ]
    }
   ],
   "source": [
    "m = {}\n",
    "l = []\n",
    "o = []\n",
    "p = []\n",
    "\n",
    "for i in strings:\n",
    "    m[i] = i[n]\n",
    "\n",
    "answer = sorted(m.items(), key=lambda x :x[1])\n",
    "\n",
    "num = len(answer)\n",
    "\n",
    "for i in range(num):\n",
    "    p.append(answer[i][0])\n",
    "    \n",
    "\n",
    "for i in range(0,num-1):\n",
    "    if answer[i][1] == answer[i+1][1]:\n",
    "        o.append(answer[i][0])\n",
    "        o.append(answer[i+1][0])\n",
    "        o.sort()\n",
    "        for j in range(len(o)):\n",
    "            l.append(o[j])\n",
    "            p.remove(o[j])\n",
    "for a in p:\n",
    "    l.append(a)\n",
    "\n",
    "\n",
    "\n",
    "print(l)\n",
    "\n",
    "## 런타임 에러 나옴"
   ]
  },
  {
   "cell_type": "code",
   "execution_count": 19,
   "id": "6bb1571f",
   "metadata": {},
   "outputs": [
    {
     "name": "stdout",
     "output_type": "stream",
     "text": [
      "{'abce': 'c', 'abcd': 'c', 'cdx': 'x'}\n"
     ]
    }
   ],
   "source": [
    "# 배열에 할당된 크기를 넘어서 접근했을 때\n",
    "# 전역 배열의 크기가 메모리 제한을 초과할 때\n",
    "# 지역 배열의 크기가 스택 크기 제한을 넘어갈 때\n",
    "# 0으로 나눌 떄\n",
    "# 라이브러리에서 예외를 발생시켰을 때\n",
    "# 재귀 호출이 너무 깊어질 때\n",
    "# # 이미 해제된 메모리를 또 참조할 때\n",
    "\n",
    "# 런타임에러 원인"
   ]
  },
  {
   "cell_type": "code",
   "execution_count": 28,
   "id": "d5fd148d",
   "metadata": {},
   "outputs": [
    {
     "name": "stdout",
     "output_type": "stream",
     "text": [
      "sun bed car\n",
      "1\n"
     ]
    }
   ],
   "source": [
    "strings = list(input().split())\n",
    "n = int(input())\n",
    "\n",
    "m = []\n",
    "same = []\n",
    "order_str = []\n",
    "\n",
    "for i in strings:\n",
    "    li=[i,i[n]]\n",
    "    m.append(li)\n",
    "    \n",
    "m.sort(key=lambda x:x[1])"
   ]
  },
  {
   "cell_type": "code",
   "execution_count": 30,
   "id": "a0eba9ac",
   "metadata": {},
   "outputs": [
    {
     "name": "stdout",
     "output_type": "stream",
     "text": [
      "['car', 'bed', 'sun']\n"
     ]
    }
   ],
   "source": [
    "for i in range(0,len(strings)-1):\n",
    "    if m[i][1] == m[i+1][1]:\n",
    "        same.append(m[i][0])\n",
    "        same.append(m[i+1][0])\n",
    "        same.sort()\n",
    "        for j in same:\n",
    "            order_str.append(j)\n",
    "\n",
    "        same.clear()\n",
    "\n",
    "    if m[i][0] not in order_str:\n",
    "        order_str.append(m[i][0])\n",
    "    if m[i+1][0] not in order_str:\n",
    "        order_str.append(m[i+1][0])\n",
    "\n",
    "\n",
    "    \n",
    "        \n",
    "\n",
    "print(order_str)\n",
    "        \n",
    "        \n",
    "    "
   ]
  },
  {
   "cell_type": "code",
   "execution_count": 8,
   "id": "1350dbf6",
   "metadata": {},
   "outputs": [
    {
     "name": "stdout",
     "output_type": "stream",
     "text": [
      "[['abce', 'c'], ['abcd', 'c'], ['cdx', 'x']]\n"
     ]
    }
   ],
   "source": []
  },
  {
   "cell_type": "code",
   "execution_count": 31,
   "id": "841631a0",
   "metadata": {},
   "outputs": [
    {
     "name": "stdout",
     "output_type": "stream",
     "text": [
      "['car', 'bed', 'sun']\n"
     ]
    }
   ],
   "source": [
    "strings = list(input().split())\n",
    "n = int(input())\n",
    "\n",
    "\n",
    "m = []\n",
    "same = []\n",
    "order_str = []\n",
    "\n",
    "for i in strings:\n",
    "    li=[i,i[n]]\n",
    "    m.append(li)\n",
    "\n",
    "m.sort(key=lambda x:x[1])\n",
    "for i in range(0,len(strings)-1):\n",
    "    if m[i][1] == m[i+1][1]:\n",
    "        same.append(m[i][0])\n",
    "        same.append(m[i+1][0])\n",
    "        same.sort()\n",
    "        for j in same:\n",
    "            order_str.append(j)\n",
    "\n",
    "        same.clear()\n",
    "for i in range(len(strings)):\n",
    "    if m[i][0] not in order_str:\n",
    "        order_str.append(m[i][0])\n",
    "\n",
    "print(order_str)"
   ]
  },
  {
   "cell_type": "code",
   "execution_count": 32,
   "id": "eb60469c",
   "metadata": {},
   "outputs": [
    {
     "ename": "TypeError",
     "evalue": "'list' object cannot be interpreted as an integer",
     "output_type": "error",
     "traceback": [
      "\u001b[1;31m---------------------------------------------------------------------------\u001b[0m",
      "\u001b[1;31mTypeError\u001b[0m                                 Traceback (most recent call last)",
      "Input \u001b[1;32mIn [32]\u001b[0m, in \u001b[0;36m<cell line: 22>\u001b[1;34m()\u001b[0m\n\u001b[0;32m     19\u001b[0m                 order_str\u001b[38;5;241m.\u001b[39mappend(j)\n\u001b[0;32m     21\u001b[0m             same\u001b[38;5;241m.\u001b[39mclear()\n\u001b[1;32m---> 22\u001b[0m \u001b[38;5;28;01mfor\u001b[39;00m j \u001b[38;5;129;01min\u001b[39;00m \u001b[38;5;28;43mrange\u001b[39;49m\u001b[43m(\u001b[49m\u001b[43mm\u001b[49m\u001b[43m)\u001b[49m:\n\u001b[0;32m     23\u001b[0m     \u001b[38;5;28;01mif\u001b[39;00m m[j][\u001b[38;5;241m0\u001b[39m] \u001b[38;5;129;01mnot\u001b[39;00m \u001b[38;5;129;01min\u001b[39;00m order_str:\n\u001b[0;32m     24\u001b[0m         order_str\u001b[38;5;241m.\u001b[39mappend(m[j][\u001b[38;5;241m0\u001b[39m])\n",
      "\u001b[1;31mTypeError\u001b[0m: 'list' object cannot be interpreted as an integer"
     ]
    }
   ],
   "source": [
    "\n",
    "m = []\n",
    "same = []\n",
    "order_str = []\n",
    "\n",
    "for i in strings:\n",
    "    li=[i,i[n]]\n",
    "    m.append(li)\n",
    "\n",
    "m.sort(key=lambda x:x[1])\n",
    "\n",
    "for i in range(0,len(strings)-1):\n",
    "\n",
    "    if m[i][0] not in order_str:\n",
    "        if m[i][1] == m[i+1][1]:\n",
    "            same.append(m[i][0])\n",
    "            same.append(m[i+1][0])\n",
    "            same.sort()\n",
    "            for j in same:\n",
    "                order_str.append(j)\n",
    "\n",
    "            same.clear()\n",
    "for j in range(m):\n",
    "    if m[j][0] not in order_str:\n",
    "        order_str.append(m[j][0])"
   ]
  },
  {
   "cell_type": "code",
   "execution_count": 33,
   "id": "422afbe5",
   "metadata": {},
   "outputs": [],
   "source": [
    "def solution(strings, n):\n",
    "    strings.sort() \n",
    "    return sorted(strings, key=lambda x:x[n])\n",
    "\n",
    "# 문자열이 사전순이라면 먼저 사전순으로 배열 해준 후\n",
    "# 다시 지정된 조건으로 재배열 해준다\n",
    "# 그러면 재배열 될 때, 문자가 같은 것이(지정된 조건의 문자) 사전순으로 배열되어\n",
    "# 출력되기 때문"
   ]
  },
  {
   "cell_type": "code",
   "execution_count": null,
   "id": "c0b85364",
   "metadata": {},
   "outputs": [],
   "source": [
    "print(solution([\"sun\", \"bed\", \"car\"],1))"
   ]
  },
  {
   "cell_type": "code",
   "execution_count": null,
   "id": "ea5b8b81",
   "metadata": {},
   "outputs": [],
   "source": [
    "def solution(strings, n):\n",
    "    return sorted(strings, key=lambda x:(x[n],x)) \n",
    "# 람다를 튜플로 지정하면 우선순위를 줄 수 있음\n"
   ]
  },
  {
   "cell_type": "code",
   "execution_count": null,
   "id": "36c19645",
   "metadata": {},
   "outputs": [],
   "source": [
    "# 오늘 배운 것\n",
    "# sorted(key=lambda x:(x[n],x)) 로 하면 우선 순위를 지정해줄 수 있음\n",
    "# 위에서 x[n]을 기준으로 오름차순 정렬하고, x[n]이 같다면 x로 오름차순 정렬\n",
    "\n",
    "# sorted(key=lambda x:(x[n],-x)) 로 하면 우선 순위를 지정해줄 수 있음\n",
    "# 위에서 x[n]을 기준으로 오름차순 정렬하고, x[n]이 같다면 x로 내림차순 정렬\n"
   ]
  }
 ],
 "metadata": {
  "kernelspec": {
   "display_name": "Python 3 (ipykernel)",
   "language": "python",
   "name": "python3"
  },
  "language_info": {
   "codemirror_mode": {
    "name": "ipython",
    "version": 3
   },
   "file_extension": ".py",
   "mimetype": "text/x-python",
   "name": "python",
   "nbconvert_exporter": "python",
   "pygments_lexer": "ipython3",
   "version": "3.8.13"
  },
  "toc": {
   "base_numbering": 1,
   "nav_menu": {},
   "number_sections": true,
   "sideBar": true,
   "skip_h1_title": false,
   "title_cell": "Table of Contents",
   "title_sidebar": "Contents",
   "toc_cell": false,
   "toc_position": {},
   "toc_section_display": true,
   "toc_window_display": false
  }
 },
 "nbformat": 4,
 "nbformat_minor": 5
}
