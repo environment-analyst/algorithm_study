{
 "cells": [
  {
   "cell_type": "code",
   "execution_count": 22,
   "id": "a7f3937d",
   "metadata": {},
   "outputs": [
    {
     "name": "stdout",
     "output_type": "stream",
     "text": [
      "4\n",
      "(()(()))\n",
      "()()(())\n",
      "()))((()\n",
      "(()(()))\n",
      "YES\n",
      "YES\n",
      "NO\n",
      "YES\n"
     ]
    }
   ],
   "source": [
    "import sys\n",
    "\n",
    "t = int(input())\n",
    "l = []\n",
    "m = []\n",
    "\n",
    "for i in range(t):\n",
    "    a = input()\n",
    "    for j in a:\n",
    "        if j == \"(\":\n",
    "            l.append(j)\n",
    "        else:\n",
    "            if len(l) == 0:\n",
    "                l.append(j)\n",
    "            elif l[-1] == \")\":\n",
    "                l.append(j)\n",
    "            else:\n",
    "                l.pop(-1)\n",
    "                \n",
    "    if len(l) == 0:\n",
    "        m.append(\"YES\")\n",
    "    else:\n",
    "        m.append(\"NO\")\n",
    "    l.clear()\n",
    "    \n",
    "\n",
    "for k in m:\n",
    "    print(k)\n",
    "\n",
    "        "
   ]
  },
  {
   "cell_type": "code",
   "execution_count": 4,
   "id": "21ed93db",
   "metadata": {},
   "outputs": [
    {
     "name": "stdout",
     "output_type": "stream",
     "text": [
      "[]\n"
     ]
    }
   ],
   "source": [
    "print(l)"
   ]
  },
  {
   "cell_type": "code",
   "execution_count": null,
   "id": "085b6ea6",
   "metadata": {},
   "outputs": [],
   "source": []
  }
 ],
 "metadata": {
  "kernelspec": {
   "display_name": "Python 3 (ipykernel)",
   "language": "python",
   "name": "python3"
  },
  "language_info": {
   "codemirror_mode": {
    "name": "ipython",
    "version": 3
   },
   "file_extension": ".py",
   "mimetype": "text/x-python",
   "name": "python",
   "nbconvert_exporter": "python",
   "pygments_lexer": "ipython3",
   "version": "3.8.13"
  },
  "toc": {
   "base_numbering": 1,
   "nav_menu": {},
   "number_sections": true,
   "sideBar": true,
   "skip_h1_title": false,
   "title_cell": "Table of Contents",
   "title_sidebar": "Contents",
   "toc_cell": false,
   "toc_position": {},
   "toc_section_display": true,
   "toc_window_display": false
  }
 },
 "nbformat": 4,
 "nbformat_minor": 5
}
