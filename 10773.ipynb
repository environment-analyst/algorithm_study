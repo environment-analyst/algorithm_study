{
 "cells": [
  {
   "cell_type": "code",
   "execution_count": 3,
   "id": "cb1a6db8",
   "metadata": {},
   "outputs": [
    {
     "name": "stdout",
     "output_type": "stream",
     "text": [
      "4\n",
      "3\n",
      "0\n",
      "4\n",
      "0\n"
     ]
    }
   ],
   "source": [
    "import sys\n",
    "\n",
    "k  = int(input())\n",
    "num = []\n",
    "\n",
    "for i in range(k):\n",
    "    a = int(input(sys.stdin.readline()))\n",
    "    if a == 0:\n",
    "        if len(num) == 0:\n",
    "            pass\n",
    "        else:\n",
    "            num.pop(-1)\n",
    "    else:\n",
    "        num.append(a)\n",
    "        \n",
    "print(sum(num))"
   ]
  },
  {
   "cell_type": "code",
   "execution_count": 4,
   "id": "b9e6c206",
   "metadata": {},
   "outputs": [
    {
     "name": "stdout",
     "output_type": "stream",
     "text": [
      "0\n"
     ]
    }
   ],
   "source": []
  },
  {
   "cell_type": "code",
   "execution_count": null,
   "id": "6976401f",
   "metadata": {},
   "outputs": [],
   "source": []
  }
 ],
 "metadata": {
  "kernelspec": {
   "display_name": "Python 3 (ipykernel)",
   "language": "python",
   "name": "python3"
  },
  "language_info": {
   "codemirror_mode": {
    "name": "ipython",
    "version": 3
   },
   "file_extension": ".py",
   "mimetype": "text/x-python",
   "name": "python",
   "nbconvert_exporter": "python",
   "pygments_lexer": "ipython3",
   "version": "3.8.13"
  },
  "toc": {
   "base_numbering": 1,
   "nav_menu": {},
   "number_sections": true,
   "sideBar": true,
   "skip_h1_title": false,
   "title_cell": "Table of Contents",
   "title_sidebar": "Contents",
   "toc_cell": false,
   "toc_position": {},
   "toc_section_display": true,
   "toc_window_display": false
  }
 },
 "nbformat": 4,
 "nbformat_minor": 5
}
