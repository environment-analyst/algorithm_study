{
 "cells": [
  {
   "cell_type": "code",
   "execution_count": 1,
   "id": "fe4087b9",
   "metadata": {},
   "outputs": [
    {
     "name": "stdout",
     "output_type": "stream",
     "text": [
      "5\n"
     ]
    }
   ],
   "source": [
    "# 정렬문제\n",
    "#2차원 평면 위의 점 N개가 주어진다. 좌표를 x좌표가 증가하는 순으로\n",
    "#, x좌표가 같으면 y좌표가 증가하는 순서로 정렬한 다음 출력하는 프로그램을 작성하시오.\n",
    "\n",
    "a = int(input())\n",
    "li = list()"
   ]
  },
  {
   "cell_type": "code",
   "execution_count": 2,
   "id": "2e5a6ff3",
   "metadata": {},
   "outputs": [
    {
     "name": "stdout",
     "output_type": "stream",
     "text": [
      "3 4\n",
      "1 1\n",
      "1 -1\n",
      "2 2\n",
      "3 3\n"
     ]
    }
   ],
   "source": [
    "\n",
    "for _ in range(a):\n",
    "    b= list(map(int, input().split()))\n",
    "    li.append(b)\n"
   ]
  },
  {
   "cell_type": "code",
   "execution_count": 3,
   "id": "b2ea1626",
   "metadata": {},
   "outputs": [
    {
     "name": "stdout",
     "output_type": "stream",
     "text": [
      "[[1, -1], [1, 1], [2, 2], [3, 3], [3, 4]]\n"
     ]
    }
   ],
   "source": [
    "li.sort()\n",
    "# 이중리스트 구문도 .sort()로 정렬할 수 있음"
   ]
  },
  {
   "cell_type": "code",
   "execution_count": 11,
   "id": "98e7cf87",
   "metadata": {},
   "outputs": [
    {
     "name": "stdout",
     "output_type": "stream",
     "text": [
      "1 -1 \n",
      "1 1 \n",
      "2 2 \n",
      "3 3 \n",
      "3 4 \n"
     ]
    }
   ],
   "source": [
    "for i in li:\n",
    "    for j in i:\n",
    "        print(j, end=\" \") # 이중구문 안 괄호를 없애기 위한 장치\n",
    "    print() # 원소하나가 끝났을 때 행을 바꾸기 위한 장치\n"
   ]
  },
  {
   "cell_type": "code",
   "execution_count": null,
   "id": "109028ab",
   "metadata": {},
   "outputs": [],
   "source": []
  }
 ],
 "metadata": {
  "kernelspec": {
   "display_name": "Python 3 (ipykernel)",
   "language": "python",
   "name": "python3"
  },
  "language_info": {
   "codemirror_mode": {
    "name": "ipython",
    "version": 3
   },
   "file_extension": ".py",
   "mimetype": "text/x-python",
   "name": "python",
   "nbconvert_exporter": "python",
   "pygments_lexer": "ipython3",
   "version": "3.8.13"
  },
  "toc": {
   "base_numbering": 1,
   "nav_menu": {},
   "number_sections": true,
   "sideBar": true,
   "skip_h1_title": false,
   "title_cell": "Table of Contents",
   "title_sidebar": "Contents",
   "toc_cell": false,
   "toc_position": {},
   "toc_section_display": true,
   "toc_window_display": false
  }
 },
 "nbformat": 4,
 "nbformat_minor": 5
}
